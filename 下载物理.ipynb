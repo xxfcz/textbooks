{
 "cells": [
  {
   "cell_type": "code",
   "execution_count": null,
   "metadata": {},
   "outputs": [],
   "source": [
    "#-*- coding: utf-8 -*-\n",
    "\n",
    "import os\n",
    "import requests\n",
    "from bs4 import BeautifulSoup\n",
    "\n",
    "# 贝特中学\n",
    "resp = requests.get('https://mp.weixin.qq.com/s/cjVtnDQdHv8VC8574SEp1g')\n",
    "resp.encoding = 'utf-8'\n",
    "html = resp.text\n",
    "soup = BeautifulSoup(html)\n",
    "# div_content = soup.find('div', class_='m-cmsinfo-cont')\n",
    "# root_dir = r'E:\\download\\政治'\n",
    "# if not os.path.exists(root_dir):\n",
    "#         os.makedirs(root_dir)\n",
    "# img_list = div_content.find_all('img')\n",
    "# page=0\n",
    "# for img in img_list:\n",
    "#     page=page+1\n",
    "#     src = 'http://www.mxqe.com/' + img['src']\n",
    "#     print(page, src, sep=',')\n",
    "#     r2 = requests.get(src)\n",
    "#     with open(root_dir+\"\\\\\"+ '{0:02d}.jpg'.format(page) ,'wb') as f:\n",
    "#         f.write(r2.content)\n",
    "#         f.close()\n",
    "#         print('文件保存成功')"
   ]
  }
 ],
 "metadata": {
  "language_info": {
   "codemirror_mode": {
    "name": "ipython",
    "version": 3
   },
   "file_extension": ".py",
   "mimetype": "text/x-python",
   "name": "python",
   "nbconvert_exporter": "python",
   "pygments_lexer": "ipython3",
   "version": 3
  },
  "orig_nbformat": 2
 },
 "nbformat": 4,
 "nbformat_minor": 2
}